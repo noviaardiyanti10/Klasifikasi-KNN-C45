{
  "nbformat": 4,
  "nbformat_minor": 0,
  "metadata": {
    "colab": {
      "name": "TugasKlasifikasi.ipynb",
      "provenance": [],
      "collapsed_sections": [],
      "authorship_tag": "ABX9TyMPMRmA+dWK2RgPO8nXd6Ho",
      "include_colab_link": true
    },
    "kernelspec": {
      "name": "python3",
      "display_name": "Python 3"
    },
    "language_info": {
      "name": "python"
    }
  },
  "cells": [
    {
      "cell_type": "markdown",
      "metadata": {
        "id": "view-in-github",
        "colab_type": "text"
      },
      "source": [
        "<a href=\"https://colab.research.google.com/github/noviaardiyanti10/Klasifikasi-KNN-C45/blob/main/TugasKlasifikasi.ipynb\" target=\"_parent\"><img src=\"https://colab.research.google.com/assets/colab-badge.svg\" alt=\"Open In Colab\"/></a>"
      ]
    },
    {
      "cell_type": "markdown",
      "metadata": {
        "id": "Nv_15g9PBquU"
      },
      "source": [
        "Algoritma Decision Tree merupakan algoritma klasifikasi yang menggunakan struktur pohon dan menghasilkan aturan-aturan keputusan atau rule. Terdapat beberapa algoritma turunan dari decision tree diantaranya ID3, C4.5 dan CART. Untuk membuat node pohon pada decision tree, terlebih dahulu dilakukan perhitungan entropy dan nilai entropy tertinggi akan menjadi node pohon. Berikut merupakan rumus dari nilai entropy.\n",
        "\n",
        "![2.PNG](data:image/png;base64,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)"
      ]
    },
    {
      "cell_type": "markdown",
      "metadata": {
        "id": "TP7gMpobD_HK"
      },
      "source": [
        "K-Nearest Neighbor merupakan metode yang mengklasifikasikan data berdasarkan jarak terdekat dengan tetangga dan kemiripan dengan label data. Pada metode KNN, data latih dijelaskan dengan fitur numerik pada n-dimensi dan disimpan dalam ruangan n-dimensi. Selanjutnya, untuk menguji hasil klasifikasi digunakan data uji di mana metode KNN mencari nilai k pada latih yang memiliki jarak terdekat dengan data uji. Perhitungan jarak terdekat dapat dilakukan dengan menggunakan rumus Euclidean Distance, sebagai berikut.\n",
        "![image.png](data:image/png;base64,iVBORw0KGgoAAAANSUhEUgAAAj4AAACICAYAAADnPuHtAAAeT0lEQVR4Ae2di7HtNLZFIQRIAUKAGCADOgUIoUkAIoAIIAFIoAmADqCJoDuGPl3jvpqX+YQ/kixv/6aqbtlnW9ZnrKWlKdl73w/ekkIgBEIgBEIgBELgIQQ+eEg/080QCIEQCIEQCIEQeIvwiROEQAiEQAiEQAg8hkCEz2NMnY6GQAiEQAiEQAhE+MQHQiAEQiAEQiAEHkMgwucxpk5HQyAEQiAEQiAEInziAyEQAiEQAiEQAo8hEOHzGFOnoyEQAiEQAiEQAhE+8YEQCIEQCIEQCIHHEIjweYyp09EQCIEQCIEQCIEIn/hACIRACIRACITAYwhE+DzG1OloCIRACIRACIRAhE98IARCIARCIARC4DEEInweY+p0NARCIARCIARCIMInPhACIRACIRACIfAYAhE+jzF1OhoCIRACIRACIRDhEx8IgRAIgRAIgRB4DIEIn8eYOh0NgRAIgRAIgRCI8IkPhEAIhEAIhEAIPIZAhM9jTJ2OhkAIhEAIhEAIRPjEB0IgBEIgBEIgBB5DIMLnMaZOR0MgBEIgBEIgBCJ84gMhEAIhEAIhEAKPIRDh8xhTp6MhEAIhEAIhEAIRPvGBEAiBEAiBEAiBxxCI8HmMqdPREAiBEAiBEAiBCJ/4QAiEQAiEQAiEwGMIRPg8xtTpaAiEQAiEQAiEQIRPfCAEQiAEQiAEQuAxBCJ8HmPqdDQEQiAEQiAEQiDCJz4QAiEQAiEQAiHwGAIRPo8xdToaAiEQAiEQAiEQ4RMfCIEQCIEQCIEQeAyBCJ/HmDodDYEQCIEQCIEQiPCJD4RACIRACIRACDyGQITPY0ydjoZACIRACIRACET4xAdCIARCIARCIAQeQyDCZ8LU//3vfyc+zUejCYTzaKL7loe98i8M4gPxgbP4QG/Ei/Axcv/617/evvvuu7dPPvnk7Z///KddyeloAr/++uvbZ5999vbDDz+8/fvf/x5dfMobTOCPP/54++CDD/IvDOID8YHT+EBvmIvweXt7N/EieBTYP/zww7eff/65l2nuqyDw/fffv8EZ5h999NE7wckqIumcBH788cf340PjJMcIwfhAfOBIH+iNlo8XPr///vu7HR6Mx0T8t7/97Y3VbdL+BOD85ZdfvhdA7ABhj6TzEfjqq6/eCR/GSP6FQXwgPnAGH+iNlI8WPkyy7DZI9GSXp9eNtt3HbgKDCDtgj4ifbTz3uFvjhJ26pBAIgRC4MoHHCp+InnO5LaIz4udcNlFreN9N29l5901UcgyBELgqgUcKH16m5QVmBXN2HJKOJ8BugmzCY6///Oc/xzcqLXiTXdj1KdOrvt1R1pu/QyAE7kFgKYbs1cNHCp+vv/76/QTLOyZJ5yGAPSR+/v73v5+nYQ9uyRdffPHOJrznUyZdk832OFLHXPKgWebxa5zfOamvd+5j+nYOAqPGEhsQP/300xtxnjH+8ccfv39/kEUW8Ybro+pzepcSPhrcU0fv1NL5b7/99n5iJUjnReYlWq+/5o9VsE/e93m9DcoaJWam3oGb+7ZX74uPqsuPU8KHGPDLL7+8+0kE8pY/QcFPU7DA0btJXCf/3ZImDxhloXA3656vP8SAUT9D4mPcv1TEnPzNN9+8n6cZx6PTpYTPt99++/49EIeGIWoTAUL37gG0th3JN0/Ad+SmJr35O3NlNAF+b0njZW6R4Lt0ysvPQ7Qm6poqq/QBRA8+InGlOrUjpff3yuuIoLs8PoUBv4ElYUdfiY9JIbAnAX0RBX/D9xjnvb/DpnE799TF52piw8h0KeFDxwm++mqtwNWudLLbM9J19iur3PXJC7X7sV4rmbHFOGPHZC4xJjUBa0xy7N2tK8VPKXxoE4FX7+ax8KE+8lEnW+aIANqF0PEASgy4emI3S32Gg6+Wr963tP/8BBhT/jtsxIaesY7v8m9uQcXukuLJ6G+TXk744BalgKlVgy6YymB6fnd7VgsV2HH87MwdZ3vZYW1xoRegFag4cm9PIhB6OeVYRQj7YzcJG+pDgPk16ve2XV34aDcLPgi82tjXY4fcEwJLBBiHn3766fuxyvs4I5PP89rNHVX+JYUPg90D45xidEhlMC2Do+fN+fEEyndH7vKI4niy9S2AucZZzQT7+eefv8+v+3oeedHClkWKxBl1Tgk07Vpx/cp+VIqe7ITW+3Jy7kOA8eTjfqT48TkgOz7FCm5pC95N7RCvHgC9X3c9j1A93rK+1VwjGJiI2bqW6NGxZxvcFzfljo+TcXFGLJhqp3aEamOFl3+Wc/8JDhhffefqLFzTju0EiNXsPjLe2XHtGe9TrWC8KoaMFvmX3PHx1WDtFpivCnu34KeMk8/2I+COX2vn/VrzvJL1kvmS8Cip+GMlBa3e8ab7l+p3gaR3frxNLoyu/MhUtoDJ6NWv88p5CPQQ8HHYO969Xv+/M/d4af+SwsdfpJwKdg6Qcw9+BI6p7fDynvx9PAEP9tgt6bUEJDxbJlrGmj/3l3jpeeTFS7vsbsx96wMa/hhralXoAfmqj7f9XQdi39Su1ms9I7WFwF8JaGeVMc83DnsTj8sUN5bGfm/53He52aR8BDIV7EogHvwAyt9J5ydQPp7M9v7rbMa4UvCpGWPeMp+oVQbHUVvgXpd2chEEU8nFM7HjisknlBYResW+ps3XJeDjvlegEyMUM3h3aC+Rf0rhs/QDhf7eAYBqUrn93hrIyzrK9pXXp/72e6auH/WZt4vztdSaf628pes+kLB1gv4SrbHXJDrnBMVabb4To0A2Ygvc6/Wd3LlHodq14njF5AIUjlsmgtax6/mvyO7sbXa+nK+l1vxr5e1xXeMNX23dYUX0EG+4d0/RQ7/rlMMehCbKxLBscxHEBAAIBEz9UJIH1KVn/168r5gob0viJUNWkWofx6U32ekTbZdDkP8MK0/a5b98Cxc4Lf0YFY6JbcjLv1c8MlRdHOGe9BoCsvOcoFhrBRP01COvLVvgZZ0ujOdEsfzHfYfxunXxU7Zlr799x6rXFmUMqhm7ZWzILvk4C18l9vb02OfnloXOK0UP/dqmAnrIzNzzj3/84704YGDybN//8RmiQQKCv+eCXVmF38N5b5Jx1C7aoH8E4TLh4KXoIv/RiXYRUNUPjurHnJgkEErsKW8t/y39VV0c59rWWz4c9v7X27aj75OtW1dt3u7yETM2pFx+gG9Ewv/kH1Pjz4UR/o6tEV74+5Z+jWh7bRmyA/2seZ+xLJeFDBOQxrp4cZwbv/5iqfJP8S3ryt/rBK4Ue9d789cc5Q5lzSJf8yq+tvdOj1p8/Cz89vZux0QDjAHKC02+wgCm/1aA8tYORuXn2Dt50gaCEO3gnBWti5qp1ZhWax50euuXwUYc1S4FvnKCon+e3DHpi3jW8veyWs+dMfWOSj5pqj+jj2ewdQ8vFww1gWupDl5QLrmO4uK+MdcGfc1WbcB/ryJ6GIdqN8dyXM71WZ8ToxA9/kOHviInnpVJL5Z6zKLupDEErhR7e3vsPrsm1v1nGuZEjxanve2Zuu9wj9ZAA9ZSUCIAO1DOa553k8fv6w26TAYYxieCUjA4YFaW1EvQ4V7uo38SG573lefw4OuB5VcECZDi5G10x+Q/juN+jvTlFcknN9o3KkX4zJMUmy27oyodfynFB3Yc8chLk/PSNz8YozxyIy/5XiHW1fetR9lB47K1PGJOuYgs46HzYIFDXbDShAW7Jb6tbXpy/qvF3l5becxG6C0lPVLHz+AzlSTWp671fjZuJulogQaaBrZPuFPFKR/H2ueHDGy/b62OqXqXPvOyFUTULwJ+6yptqa49r3mQdXEox0TsHJF8EMHaheeW9tBfTZx7Ha86YYj5WtCq5c8Oi48TztltGPXIq7YdV8unsQcvH5Nb+yH7Uq7ioS9wrrIjtpXDWe4/a+zt5aNdLfxraZ72TQ/mTO3s+JHPiRUj/Z9+HSp8fACym7KWAKl/tUF5b+HjfWCVhGrVO0VXCiDOSVvg2rWa24Jcs9eI61L7srvE5YiyU8ZfCfiOgD9u/mvOtk8QgbKhjqODWVuLzp/bY8tIVj7R6hG9RNZRC5xR1vBJc6/zUW1VOWeNvWpf69H9i7E+lYgzzDOKBWvHkf5Pe6ZbNdXSwZ+5sen02oTmAZn8taKirEcrnFHdcSMzSWuiLh8ljapvz3Lc+aS02bUatcvS03bnW+MnPXXknj8J+ONbxtyohA9NPfJaG/ej6r9iOT4eiSujksdEVuR8cYG6ahafo9qwRzllrHB+o85HT8Di4O07S+xV21qPpR2m4gg+2LLTPnr3/DDhoxUGBq95l8AHK/fUTsblfRhlZPKJQgp2tJFGtnepLH/Ph77gmPA7MpWD6Oj2HMniFXVLuC9tUfe2gx1RD/CcX+VRcG+ft9znrEbGrXIRyVhHlE5NUFva/+p7y1jh/Ead7yV8zhh7e+1XzrlnjNmHCJ9y4NUMandqBmptKo1QU1dt2eQr+7IlgPjWbEsbRuXVpKcgsYXVqL643WnXGQfRKP5nKEcBeIvtl/oh3+J49ccqS/0ccc1ZjbaH7Kw6esfVqHE+gheMWnYRevLutag9Y+zttUk55/b6Vm/9NfcdInx8l4SBVwPGB6qeS9d0sDTC6ABCG/ROD33RtyFq2lbm8ZfCjlgJ+0uoLeKy7Ae7cQqoW1dI2Etl1fpK2Z78XUfA7VYzJutK/TOX/z7Mke+N/dmic5+534+OWx5rWuJpSczLOSJmle256t+jYi/99/noCB7lnLtHLNnar0OETzmZrXXCAzLBoCUIlEZouXetXVz3b0PQti3P4uWwW0RHTZvn8uhlZgXc3q1vH8RbeZcroZGDyFere53PsT7j57LbHv7HD5TKr1hpZ5Jc9wDx4rh1HJW1+asGLCp709Exq7fdZ7tvVOz1uXLrorOXUTnnjozZvW0q7ztE+GAQDWoGzlrylSL3tYAsjTA6gPiKh7b1OhsiQ1uve22nLnHWC3WySytnL5sXu9WXFlt5GTp3X6FNDOwRCT/wvu5x3usLI/rXU4Z8ecsOwFS9LA4QU2K8ZVd0qvyrfCZxXdte8eI4Mm7514hVR22bPN/RMcvbcuXzkbGXpymKvSN9poWvFlDyra1zQEvdtXkPFz5rkwO/9SGAOtZ2jnzlOzhr9bWUrQCCUFHbOF4tMTGx6mPAuNA4auA4P2/PSLYRPk75/861eh8tTNyG/JLz0xKCR/8lT0v88ZiCKB2RNMnyg3GyN/WccXIa0d+zl3Hm2NvLroytvU8Oeuuvue+QWdoD4VIgIGD4uz0M0KX8cx32ANJz/1S5BBDK1S9O+or2atv42vZmwuOfeI1e+U9xXPvMfYV2jUoMTq2M9joesXMnPowdgmptwmdl91G7atTtW/gaK7Vtuno+CR734RYB4/eNiFv4A2IHf8feGvfYfbTYvbrtXtV+2eCMsbeXQSl8esvZ875xM0lDK31Azz3qImgQJPiWlL/n0fMOja9s5upraP67CQWhQwDRSsn71BJE6Gf5b60trfmXytNjRE3S9EcTYOu7HiPbpTarLRxHBH+Ve9cjNmAnEj9v4SXBO2J8iK0WB9jOx4qu3/nITjXxi367DzMp1CZNity/5T0c6sMvFKPUBp+gWhY55Tjn77lU5i3zrV0v89/p7z1jb61NSp4j7DHSb8v2jfr7cOHDoC5/uh74BA2uMRH7AC1FxZKBBUkDXgFIn9ce5Qzk19YkZSmA8Lm3cSqIzLWz/FG3monH+9MiTrwftFmP6sqv4IsTx3L3aq4fPNctgzyfbU3elpbV8tZ6r3Q/NsEvCaT4jzOTMF/rj4LVKMbaXVBbfKystaXlunx6yi/92tT1lnpa8tJXxgI7XMQrX7i1cPCYAseWpL5zD+eKp1rg8PnaImeOWW3MwgeoV7vhvmilbH440Xf0R/leC6dX5XV7UOfI2MsObRl7p1jSBo8RzCP+GIqFiuIA/lYzF03xc5tOzYVT97z6s7bRNKh1Wl0qKAIK8YNhgK+JXb9+rL/J74GcgcW1cnIum1kGkLX8fj95qZdBS30yqgcQ8pdf0XeHwslp59wjBA+MUw7r7eHcedC22iSnph8aeAwYZ0pZ6qP6rfLFuxSfuk7/fOJt4awy/OiBmba0TBpezp3P8TP8RzuQZQCsDTyanPDjEUm+ht3KsdJSfjlh6F4+94kTv3N/w1d90qV/fl3l7HFE8OCrigHuxy0+7PfBsRynS22nv4xjOMGB+8sFDu3jc/1z2xOHuX+uzrWYxf1TPokN1CZ81f2VMu+aNB72ir3YUnVgzzJGUy/2LJkrH/NBeY38PUn+NNWOnvL2uKd+1hxY+5RCdVic+4+b+UTPIGbg6GVBjCXjzTWxFCU+wOfu0eflG+q0bepdhTKIMIgVnAkAS79b4u2r2SUphZzaunZ0USLeU+w8qNF2RCkDh4EF76U2MlhU9lp71q7TNpXFcS4Ir5Vz5+v4HRMaPim7cO7c5gS3uPgES3lbk0Q1bSgn25ayfez5fXMTJ/5Jmpt0p/pGWVv+ebvmzp1vi/ChPMafbDk1VqfqxN66R0fG7ZTwIy4pD3GWcS7Rg+2m7qHOpZhF/Yp5nHte4jYxnHrhgk0Ul2r7N9Xns3+mPoo1x6n+bom9fm8ZK4nL2FPM1Q78kfHKNcUPCSiNpxa27uvUsRZ7WsoemfcQ4UMHgMxglAF05DMXPeTlb13XkXwE+NLAU3AYXLqPIw5Sm7Ra0v1LwcAdT/lp55LooR0uZOYCjbe3rMevzZ2XwXCKs+4lL/1UH3TkHg0O5S2PyksQ3ZpK9lvLu+v9ZXBxwYA94LiU5H+9KzwvW6JDftCyyPByOHc/92t8ji9q4pDYxueoH9+lT4x78tAWJuIyqd9qa+ux1sd9MqDOluRjoLa+0v5L4xb7cL3s+1Kco/3ObipmiT95vf/YqoyH+vmLmljewu4seV8Ve/EP2bHsOz7hdlI+CSK/Jp9o9VXq9DE7Ip6U/Rj192HChw4AmEHAwOMfX3Wdcn4CGNeUj3sIaHxemxQcMXiLQbxezstJxuunPYg0b2eN80hhTwVnL1/n7uCsJGoSjq12IRg1aczdi23Ixz0EQfrug2PqPg9wNf2eKsM/81VSz+rDy3raubPDr5bGisbGVptRh8pinOlRdS9774OXgR+6ANd4ID999Wu0CR+eetxGfzUmeo5TZXo7db5lXPi9MF2KP6qPsa3+ECunYqrycoQDY5x7GPPEsCV/4Z6WmEUs0URLPWtle9vucP6K2AsnMV4TyPBXXo5r/tFiAx+zPg5bynhF3kOFzys6qDq08pPBzzT4CNa0q3Zy98ll62QlPiOOzphgtyWVq6QzD6It/dzrXvxCvs5xzk88CG4NgL7aY8Ldkti58fYvlXXW8aA2u3iZs4PyTh0l7JbsOHXfnp+1xCz3i4zjfayCuNJ4gfdSciG6thu8VE55zctdW2yV977678cIn7NOpO6wa7swOAfv28jBmVzOJOC0CqR9NSvTJWd3EUV5Z+rnUrvPcg1empzgx/lUUrCauz51z9RnvGgsv2RVv8X+vHPjkz3CZi65cGO34oxpq/Dx+88wobTGLAlTdgOS9iHg8XJNXLoQ3TJOy574mO0R+GV5e/79GOEDRJ+Y17YD94TuZbvDrq24fUJgciEAnSlpm3PrJEqfFCyZTEeuSs7Ea++2lLs+vMRYJgXB2t3G8n7+Roxjcwkf6ul9YZidHh+nlLk0ViXcyLcW8Kfa/orPXLj0Tgg8ahbftRX93n1qiVkuTDOO97OMvwu2Ni8oto4Uov6Fhq27vftR+rPkRwkfD0AEkZFq90+kbWce5NfulHPjWGvOvVbW6OuwVGDeMonSLl9RUubZ+jqa3V7l+aQDx6lAJ7HKZNabFEhl/9HHJeEj4UadPeO5V6DpvhpmHnd6hQ+2ZEdLbPl21FGpJWZdQZgexXFkvRrHa4tOjwmjhKgvfM64IJ/i/CjhAwDfjhtl+CmwtZ/JYZeCu8piRcvKD+c9W/IA1xvc1ScJPIJ87QukujfH/0/AWcKTSVjJxWqPaKAc/fqsJuQ9jktjQ6JrStSpn3PHckeste1L7fI6RwgfymMBwMRCO5ng2B07IrXELBemWcDsYy0XM2s+6XF6y2JHPdHvA+GTvBx/1l1XtVfHxwkfD0IYC7V6ZFKw9e1rtg2vFiQ8wPnk2sq2fKn1ahxa+7t3fhc3+JoHRoIUn/WIBtpdjiX58ujj3ALFA37PLiPCR99+6jnWinLntHVRUIof3q1i9+mVSfatiVn4G/nXdiJe2f671eViZs2/XOxvja3EaongK4ke7P844UOn/XeBfCJ49YDwgEjgJoDxnzriRFu/CvzqvmjlTZDbsiOlQEk5Hlhf3Z871Vfu+ijg6fM5YbHGYKtwqBUbc8Hcx8+I1etaf3uvezvn+tJSNmKWx93wY5xgPxZwrxBA3peamEX7+HdknG1he8W8vuhEBC0lj69L+ZauscujnV58kEew+MWV0iOFDxOzPy9HbByVtHWtAIEjjQiOr+6P2o8A6k0aTJR1tm+s9fbpDPchdGQfjhI6rML5ey1YnqEPU21gnKhfZw68vI+jdvbsTE31nc/oP/FDAuhVC4XamOUi6YoxbY772T53MbO26JQf9gpRdomJG/ic5qq1Os/Gi/Y8UvjQcd8yxhmmvvHyCoMx6SDCcCIm+zMH8DkeHuA0qc7lnfvcvxVAYNWuxFz+fN5GwIMj/u5fP79i4KL33qc2GvvnZveFlTGix3dDmTTwde3QbN2lwXZMRjx2e9UucW3MQuxogrxiXNvfS8bUIDGz9sgaG8gevUIU2zNPscN61bgB9ccKHzpfih92frYGojGufK1SGEQafK0vt8Eb7ro/omcf27s4hbWezW/ZodunpfWlKojXvmtTX/K2nD7hq41zx7O1fVvPc/erCfi47l10vrrNZ6jv0cIHAyB+tOPChMAq8ugXns/gGC1t8BVty7eDeDlOq3YmBlYS2elpId+WV6wlMjn2rvzaak7uEAiBPQj4+z2ti8492nOVMh8vfDAUW3a+SmNCiBPVuXDv+wtslcIZwcMuTybgOt5bcuHTLno4Z8WYFAIhcD0CPErVe3rE0KR6AhE+xordCiZgdoCy82BgilMeT/GP90Q08BAwLczu8qy4QHP6P/2lfmyXFAIhcB0Cir3slvtO+5m/1XhGuhE+Z7TKiduEuCl3DRA92SE7sdGsab7rM/IbRlZFTkMgBHYioIWmYjCxl59nSWojEOHTxuvxuXk0wmDjH7sHDLqW93oeD/AEAPROW1aJJzBGmhACDQQUe3m0xa/451F1AzzLGuFjMHIaAiEQAiEQAiFwbwIRPve2b3oXAiEQAiEQAiFgBCJ8DEZOQyAEQiAEQiAE7k0gwufe9k3vQiAEQiAEQiAEjECEj8HIaQiEQAiEQAiEwL0JRPjc277pXQiEQAiEQAiEgBGI8DEYOQ2BEAiBEAiBELg3gQife9s3vQuBEAiBEAiBEDACET4GI6chEAIhEAIhEAL3JhDhc2/7pnchEAIhEAIhEAJGIMLHYOQ0BEIgBEIgBELg3gQifO5t3/QuBEIgBEIgBELACET4GIychkAIhEAIhEAI3JtAhM+97ZvehUAIhEAIhEAIGIEIH4OR0xAIgRAIgRAIgXsTiPC5t33TuxAIgRAIgRAIASMQ4WMwchoCIRACIRACIXBvAhE+97ZvehcCIRACIRACIWAEInwMRk5DIARCIARCIATuTSDC5972Te9CIARCIARCIASMQISPwchpCIRACIRACITAvQlE+NzbvuldCIRACIRACISAEYjwMRg5DYEQCIEQCIEQuDeBCJ972ze9C4EQCIEQCIEQMAIRPgYjpyEQAiEQAiEQAvcmEOFzb/umdyEQAiEQAiEQAkYgwsdg5DQEQiAEQiAEQuDeBCJ87m3f9C4EQiAEQiAEQsAIRPgYjJyGQAiEQAiEQAjcm0CEz73tm96FQAiEQAiEQAgYgQgfg5HTEAiBEAiBEAiBexOI8Lm3fdO7EAiBEAiBEAgBIxDhYzByGgIhEAIhEAIhcG8CET73tm96FwIhEAIhEAIhYAQifAxGTkMgBEIgBEIgBO5NIMLn3vZN70IgBEIgBEIgBIxAhI/ByGkIhEAIhEAIhMC9CUT43Nu+6V0IhEAIhEAIhIARiPAxGDkNgRAIgRAIgRC4N4EIn3vbN70LgRAIgRAIgRAwAhE+BiOnIRACIRACIRAC9yYQ4XNv+6Z3IRACIRACIRACRiDCx2DkNARCIARCIARC4N4EInzubd/0LgRCIARCIARCwAhE+BiMnIZACIRACIRACNybQITPve2b3oVACIRACIRACBiB/wFk5X2XaGupDQAAAABJRU5ErkJggg==)"
      ]
    },
    {
      "cell_type": "code",
      "metadata": {
        "id": "hBXyNWdo6bDM",
        "colab": {
          "base_uri": "https://localhost:8080/"
        },
        "outputId": "f46ac2fd-ef7c-47ed-da19-6b15f39eef9c"
      },
      "source": [
        "#import dataset wine.csv dari drive\n",
        "\n",
        "from google.colab import drive\n",
        "drive.mount('/content/drive')"
      ],
      "execution_count": null,
      "outputs": [
        {
          "output_type": "stream",
          "text": [
            "Drive already mounted at /content/drive; to attempt to forcibly remount, call drive.mount(\"/content/drive\", force_remount=True).\n"
          ],
          "name": "stdout"
        }
      ]
    },
    {
      "cell_type": "code",
      "metadata": {
        "colab": {
          "base_uri": "https://localhost:8080/",
          "height": 202
        },
        "id": "zf_1het5Wy2d",
        "outputId": "20a1175e-ee39-4b56-de59-032a2a43ae47"
      },
      "source": [
        "#import library pandas\n",
        "import pandas as pd\n",
        "url = \"/content/drive/MyDrive/Digitalent/wine.csv\" #menyimpan path dari file ke variabel url\n",
        "\n",
        "#membuat list nama atribut/kolom dan menyimpan ke dalam list_cols\n",
        "list_cols = ['name' ,'alcohol','malicAcid','ash','ashalcalinity', 'magnesium','totalPhenols','flavanoids','nonFlavanoidPhenols','proanthocyanins','colorIntensity','hue','od280_od315','proline']\n",
        "\n",
        "#membaca dataset dengan memanggil variabel url dan list_cols\n",
        "wine = pd.read_csv(url, names=list_cols)\n",
        "\n",
        "#memanngil dan mencetak 5 data pertama pada dataset\n",
        "wine.head()"
      ],
      "execution_count": null,
      "outputs": [
        {
          "output_type": "execute_result",
          "data": {
            "text/html": [
              "<div>\n",
              "<style scoped>\n",
              "    .dataframe tbody tr th:only-of-type {\n",
              "        vertical-align: middle;\n",
              "    }\n",
              "\n",
              "    .dataframe tbody tr th {\n",
              "        vertical-align: top;\n",
              "    }\n",
              "\n",
              "    .dataframe thead th {\n",
              "        text-align: right;\n",
              "    }\n",
              "</style>\n",
              "<table border=\"1\" class=\"dataframe\">\n",
              "  <thead>\n",
              "    <tr style=\"text-align: right;\">\n",
              "      <th></th>\n",
              "      <th>name</th>\n",
              "      <th>alcohol</th>\n",
              "      <th>malicAcid</th>\n",
              "      <th>ash</th>\n",
              "      <th>ashalcalinity</th>\n",
              "      <th>magnesium</th>\n",
              "      <th>totalPhenols</th>\n",
              "      <th>flavanoids</th>\n",
              "      <th>nonFlavanoidPhenols</th>\n",
              "      <th>proanthocyanins</th>\n",
              "      <th>colorIntensity</th>\n",
              "      <th>hue</th>\n",
              "      <th>od280_od315</th>\n",
              "      <th>proline</th>\n",
              "    </tr>\n",
              "  </thead>\n",
              "  <tbody>\n",
              "    <tr>\n",
              "      <th>0</th>\n",
              "      <td>1</td>\n",
              "      <td>14.23</td>\n",
              "      <td>1.71</td>\n",
              "      <td>2.43</td>\n",
              "      <td>15.6</td>\n",
              "      <td>127</td>\n",
              "      <td>2.80</td>\n",
              "      <td>3.06</td>\n",
              "      <td>0.28</td>\n",
              "      <td>2.29</td>\n",
              "      <td>5.64</td>\n",
              "      <td>1.04</td>\n",
              "      <td>3.92</td>\n",
              "      <td>1065</td>\n",
              "    </tr>\n",
              "    <tr>\n",
              "      <th>1</th>\n",
              "      <td>1</td>\n",
              "      <td>13.20</td>\n",
              "      <td>1.78</td>\n",
              "      <td>2.14</td>\n",
              "      <td>11.2</td>\n",
              "      <td>100</td>\n",
              "      <td>2.65</td>\n",
              "      <td>2.76</td>\n",
              "      <td>0.26</td>\n",
              "      <td>1.28</td>\n",
              "      <td>4.38</td>\n",
              "      <td>1.05</td>\n",
              "      <td>3.40</td>\n",
              "      <td>1050</td>\n",
              "    </tr>\n",
              "    <tr>\n",
              "      <th>2</th>\n",
              "      <td>1</td>\n",
              "      <td>13.16</td>\n",
              "      <td>2.36</td>\n",
              "      <td>2.67</td>\n",
              "      <td>18.6</td>\n",
              "      <td>101</td>\n",
              "      <td>2.80</td>\n",
              "      <td>3.24</td>\n",
              "      <td>0.30</td>\n",
              "      <td>2.81</td>\n",
              "      <td>5.68</td>\n",
              "      <td>1.03</td>\n",
              "      <td>3.17</td>\n",
              "      <td>1185</td>\n",
              "    </tr>\n",
              "    <tr>\n",
              "      <th>3</th>\n",
              "      <td>1</td>\n",
              "      <td>14.37</td>\n",
              "      <td>1.95</td>\n",
              "      <td>2.50</td>\n",
              "      <td>16.8</td>\n",
              "      <td>113</td>\n",
              "      <td>3.85</td>\n",
              "      <td>3.49</td>\n",
              "      <td>0.24</td>\n",
              "      <td>2.18</td>\n",
              "      <td>7.80</td>\n",
              "      <td>0.86</td>\n",
              "      <td>3.45</td>\n",
              "      <td>1480</td>\n",
              "    </tr>\n",
              "    <tr>\n",
              "      <th>4</th>\n",
              "      <td>1</td>\n",
              "      <td>13.24</td>\n",
              "      <td>2.59</td>\n",
              "      <td>2.87</td>\n",
              "      <td>21.0</td>\n",
              "      <td>118</td>\n",
              "      <td>2.80</td>\n",
              "      <td>2.69</td>\n",
              "      <td>0.39</td>\n",
              "      <td>1.82</td>\n",
              "      <td>4.32</td>\n",
              "      <td>1.04</td>\n",
              "      <td>2.93</td>\n",
              "      <td>735</td>\n",
              "    </tr>\n",
              "  </tbody>\n",
              "</table>\n",
              "</div>"
            ],
            "text/plain": [
              "   name  alcohol  malicAcid   ash  ...  colorIntensity   hue  od280_od315  proline\n",
              "0     1    14.23       1.71  2.43  ...            5.64  1.04         3.92     1065\n",
              "1     1    13.20       1.78  2.14  ...            4.38  1.05         3.40     1050\n",
              "2     1    13.16       2.36  2.67  ...            5.68  1.03         3.17     1185\n",
              "3     1    14.37       1.95  2.50  ...            7.80  0.86         3.45     1480\n",
              "4     1    13.24       2.59  2.87  ...            4.32  1.04         2.93      735\n",
              "\n",
              "[5 rows x 14 columns]"
            ]
          },
          "metadata": {
            "tags": []
          },
          "execution_count": 68
        }
      ]
    },
    {
      "cell_type": "code",
      "metadata": {
        "colab": {
          "base_uri": "https://localhost:8080/",
          "height": 314
        },
        "id": "eC2GRHmgcW2g",
        "outputId": "9dbaaada-199c-4adc-8579-f82a32db3a1d"
      },
      "source": [
        "#mendeskripsikan dataset\n",
        "wine.describe()"
      ],
      "execution_count": null,
      "outputs": [
        {
          "output_type": "execute_result",
          "data": {
            "text/html": [
              "<div>\n",
              "<style scoped>\n",
              "    .dataframe tbody tr th:only-of-type {\n",
              "        vertical-align: middle;\n",
              "    }\n",
              "\n",
              "    .dataframe tbody tr th {\n",
              "        vertical-align: top;\n",
              "    }\n",
              "\n",
              "    .dataframe thead th {\n",
              "        text-align: right;\n",
              "    }\n",
              "</style>\n",
              "<table border=\"1\" class=\"dataframe\">\n",
              "  <thead>\n",
              "    <tr style=\"text-align: right;\">\n",
              "      <th></th>\n",
              "      <th>name</th>\n",
              "      <th>alcohol</th>\n",
              "      <th>malicAcid</th>\n",
              "      <th>ash</th>\n",
              "      <th>ashalcalinity</th>\n",
              "      <th>magnesium</th>\n",
              "      <th>totalPhenols</th>\n",
              "      <th>flavanoids</th>\n",
              "      <th>nonFlavanoidPhenols</th>\n",
              "      <th>proanthocyanins</th>\n",
              "      <th>colorIntensity</th>\n",
              "      <th>hue</th>\n",
              "      <th>od280_od315</th>\n",
              "      <th>proline</th>\n",
              "    </tr>\n",
              "  </thead>\n",
              "  <tbody>\n",
              "    <tr>\n",
              "      <th>count</th>\n",
              "      <td>178.000000</td>\n",
              "      <td>178.000000</td>\n",
              "      <td>178.000000</td>\n",
              "      <td>178.000000</td>\n",
              "      <td>178.000000</td>\n",
              "      <td>178.000000</td>\n",
              "      <td>178.000000</td>\n",
              "      <td>178.000000</td>\n",
              "      <td>178.000000</td>\n",
              "      <td>178.000000</td>\n",
              "      <td>178.000000</td>\n",
              "      <td>178.000000</td>\n",
              "      <td>178.000000</td>\n",
              "      <td>178.000000</td>\n",
              "    </tr>\n",
              "    <tr>\n",
              "      <th>mean</th>\n",
              "      <td>1.938202</td>\n",
              "      <td>13.000618</td>\n",
              "      <td>2.336348</td>\n",
              "      <td>2.366517</td>\n",
              "      <td>19.494944</td>\n",
              "      <td>99.741573</td>\n",
              "      <td>2.295112</td>\n",
              "      <td>2.029270</td>\n",
              "      <td>0.361854</td>\n",
              "      <td>1.590899</td>\n",
              "      <td>5.058090</td>\n",
              "      <td>0.957449</td>\n",
              "      <td>2.611685</td>\n",
              "      <td>746.893258</td>\n",
              "    </tr>\n",
              "    <tr>\n",
              "      <th>std</th>\n",
              "      <td>0.775035</td>\n",
              "      <td>0.811827</td>\n",
              "      <td>1.117146</td>\n",
              "      <td>0.274344</td>\n",
              "      <td>3.339564</td>\n",
              "      <td>14.282484</td>\n",
              "      <td>0.625851</td>\n",
              "      <td>0.998859</td>\n",
              "      <td>0.124453</td>\n",
              "      <td>0.572359</td>\n",
              "      <td>2.318286</td>\n",
              "      <td>0.228572</td>\n",
              "      <td>0.709990</td>\n",
              "      <td>314.907474</td>\n",
              "    </tr>\n",
              "    <tr>\n",
              "      <th>min</th>\n",
              "      <td>1.000000</td>\n",
              "      <td>11.030000</td>\n",
              "      <td>0.740000</td>\n",
              "      <td>1.360000</td>\n",
              "      <td>10.600000</td>\n",
              "      <td>70.000000</td>\n",
              "      <td>0.980000</td>\n",
              "      <td>0.340000</td>\n",
              "      <td>0.130000</td>\n",
              "      <td>0.410000</td>\n",
              "      <td>1.280000</td>\n",
              "      <td>0.480000</td>\n",
              "      <td>1.270000</td>\n",
              "      <td>278.000000</td>\n",
              "    </tr>\n",
              "    <tr>\n",
              "      <th>25%</th>\n",
              "      <td>1.000000</td>\n",
              "      <td>12.362500</td>\n",
              "      <td>1.602500</td>\n",
              "      <td>2.210000</td>\n",
              "      <td>17.200000</td>\n",
              "      <td>88.000000</td>\n",
              "      <td>1.742500</td>\n",
              "      <td>1.205000</td>\n",
              "      <td>0.270000</td>\n",
              "      <td>1.250000</td>\n",
              "      <td>3.220000</td>\n",
              "      <td>0.782500</td>\n",
              "      <td>1.937500</td>\n",
              "      <td>500.500000</td>\n",
              "    </tr>\n",
              "    <tr>\n",
              "      <th>50%</th>\n",
              "      <td>2.000000</td>\n",
              "      <td>13.050000</td>\n",
              "      <td>1.865000</td>\n",
              "      <td>2.360000</td>\n",
              "      <td>19.500000</td>\n",
              "      <td>98.000000</td>\n",
              "      <td>2.355000</td>\n",
              "      <td>2.135000</td>\n",
              "      <td>0.340000</td>\n",
              "      <td>1.555000</td>\n",
              "      <td>4.690000</td>\n",
              "      <td>0.965000</td>\n",
              "      <td>2.780000</td>\n",
              "      <td>673.500000</td>\n",
              "    </tr>\n",
              "    <tr>\n",
              "      <th>75%</th>\n",
              "      <td>3.000000</td>\n",
              "      <td>13.677500</td>\n",
              "      <td>3.082500</td>\n",
              "      <td>2.557500</td>\n",
              "      <td>21.500000</td>\n",
              "      <td>107.000000</td>\n",
              "      <td>2.800000</td>\n",
              "      <td>2.875000</td>\n",
              "      <td>0.437500</td>\n",
              "      <td>1.950000</td>\n",
              "      <td>6.200000</td>\n",
              "      <td>1.120000</td>\n",
              "      <td>3.170000</td>\n",
              "      <td>985.000000</td>\n",
              "    </tr>\n",
              "    <tr>\n",
              "      <th>max</th>\n",
              "      <td>3.000000</td>\n",
              "      <td>14.830000</td>\n",
              "      <td>5.800000</td>\n",
              "      <td>3.230000</td>\n",
              "      <td>30.000000</td>\n",
              "      <td>162.000000</td>\n",
              "      <td>3.880000</td>\n",
              "      <td>5.080000</td>\n",
              "      <td>0.660000</td>\n",
              "      <td>3.580000</td>\n",
              "      <td>13.000000</td>\n",
              "      <td>1.710000</td>\n",
              "      <td>4.000000</td>\n",
              "      <td>1680.000000</td>\n",
              "    </tr>\n",
              "  </tbody>\n",
              "</table>\n",
              "</div>"
            ],
            "text/plain": [
              "             name     alcohol   malicAcid  ...         hue  od280_od315      proline\n",
              "count  178.000000  178.000000  178.000000  ...  178.000000   178.000000   178.000000\n",
              "mean     1.938202   13.000618    2.336348  ...    0.957449     2.611685   746.893258\n",
              "std      0.775035    0.811827    1.117146  ...    0.228572     0.709990   314.907474\n",
              "min      1.000000   11.030000    0.740000  ...    0.480000     1.270000   278.000000\n",
              "25%      1.000000   12.362500    1.602500  ...    0.782500     1.937500   500.500000\n",
              "50%      2.000000   13.050000    1.865000  ...    0.965000     2.780000   673.500000\n",
              "75%      3.000000   13.677500    3.082500  ...    1.120000     3.170000   985.000000\n",
              "max      3.000000   14.830000    5.800000  ...    1.710000     4.000000  1680.000000\n",
              "\n",
              "[8 rows x 14 columns]"
            ]
          },
          "metadata": {
            "tags": []
          },
          "execution_count": 69
        }
      ]
    },
    {
      "cell_type": "code",
      "metadata": {
        "colab": {
          "base_uri": "https://localhost:8080/",
          "height": 286
        },
        "id": "T-vxZOPrXRKA",
        "outputId": "13189be0-dd49-4ff2-e99c-81439f1d895d"
      },
      "source": [
        "#import library matplotlib untuk melakukan plotting \n",
        "import matplotlib.pyplot as plt\n",
        "\n",
        "#melakukan plotting data outlier dengan boxplot dengan lebar kotak sebesar 5\n",
        "wine.boxplot(widths=5)"
      ],
      "execution_count": null,
      "outputs": [
        {
          "output_type": "execute_result",
          "data": {
            "text/plain": [
              "<matplotlib.axes._subplots.AxesSubplot at 0x7f3b8597a510>"
            ]
          },
          "metadata": {
            "tags": []
          },
          "execution_count": 70
        },
        {
          "output_type": "display_data",
          "data": {
            "image/png": "[encoded data removed]",
            "text/plain": [
              "<Figure size 432x288 with 1 Axes>"
            ]
          },
          "metadata": {
            "tags": [],
            "needs_background": "light"
          }
        }
      ]
    },
    {
      "cell_type": "code",
      "metadata": {
        "id": "X-jjCD8HWVLN"
      },
      "source": [
        "#menghapus kolom name dan simpan kolom yang tidak terhapus ke variabel x\n",
        "x = wine.drop('name', axis=1)\n",
        "\n",
        "#menyimpan data data pada kolom name dataset pada variabel y\n",
        "y = wine.name"
      ],
      "execution_count": null,
      "outputs": []
    },
    {
      "cell_type": "code",
      "metadata": {
        "id": "-k_D-2k5WkgR"
      },
      "source": [
        "#model_knn.fit(x,y)"
      ],
      "execution_count": 1,
      "outputs": []
    },
    {
      "cell_type": "code",
      "metadata": {
        "id": "S-4ouijbWrVq"
      },
      "source": [
        "#memanggil dan mengimport sklearn modul train_test_split untuk membagi dataset\n",
        "from sklearn.model_selection import train_test_split\n",
        "\n",
        "#mendeklarasikan variabel dan menyimpan data ke dalam variabel dengan ukuran data testing 25% dan random data dilakukan sebanyak 5 kali\n",
        "x_train, x_tes, y_train, y_tes = train_test_split(x, y, test_size = 0.25, random_state = 5)"
      ],
      "execution_count": null,
      "outputs": []
    },
    {
      "cell_type": "code",
      "metadata": {
        "colab": {
          "base_uri": "https://localhost:8080/"
        },
        "id": "JNaYpdrLS5Pi",
        "outputId": "f8c2cda9-0cdc-43aa-f12a-43b86bc947c4"
      },
      "source": [
        "#import metode KNN pada library sklearn \n",
        "from sklearn.neighbors import KNeighborsClassifier\n",
        "\n",
        "#menyimpan data metode KNN dengan jumlah nilai n=1 dan perhitungan jarak menggunakan distande ke variabel model_knn\n",
        "model_knn = KNeighborsClassifier(n_neighbors=11, weights='distance')\n",
        "\n",
        "#menerima input untuk data sampel (x) dan label (target y ).\n",
        "model_knn.fit(x_train, y_train)\n",
        "\n"
      ],
      "execution_count": null,
      "outputs": [
        {
          "output_type": "execute_result",
          "data": {
            "text/plain": [
              "KNeighborsClassifier(algorithm='auto', leaf_size=30, metric='minkowski',\n",
              "                     metric_params=None, n_jobs=None, n_neighbors=11, p=2,\n",
              "                     weights='distance')"
            ]
          },
          "metadata": {
            "tags": []
          },
          "execution_count": 114
        }
      ]
    },
    {
      "cell_type": "code",
      "metadata": {
        "id": "EaEnkHOFXVDS"
      },
      "source": [
        "#menyimpan hasil prediksi kelas pada data testing ke variabel y_predict\n",
        "y_predict = model_knn.predict(x_tes)"
      ],
      "execution_count": null,
      "outputs": []
    },
    {
      "cell_type": "code",
      "metadata": {
        "colab": {
          "base_uri": "https://localhost:8080/",
          "height": 300
        },
        "id": "jlNMZpnYXcAq",
        "outputId": "fd731c25-f20f-48a6-b748-e9ff56527666"
      },
      "source": [
        "#import library sklearn dan method confusion matrix untuk menghitung akurasi, precisoion, recall dan F1Score\n",
        "from sklearn.metrics import confusion_matrix, ConfusionMatrixDisplay, classification_report\n",
        "\n",
        "#menampilkan plotting dari confusion matrix model KNN\n",
        "ConfusionMatrixDisplay(cm,display_labels=model_knn.classes_).plot()"
      ],
      "execution_count": null,
      "outputs": [
        {
          "output_type": "execute_result",
          "data": {
            "text/plain": [
              "<sklearn.metrics._plot.confusion_matrix.ConfusionMatrixDisplay at 0x7f3b85171d10>"
            ]
          },
          "metadata": {
            "tags": []
          },
          "execution_count": 116
        },
        {
          "output_type": "display_data",
          "data": {
            "image/png": "[encoded data removed]",
            "text/plain": [
              "<Figure size 432x288 with 2 Axes>"
            ]
          },
          "metadata": {
            "tags": [],
            "needs_background": "light"
          }
        }
      ]
    },
    {
      "cell_type": "code",
      "metadata": {
        "colab": {
          "base_uri": "https://localhost:8080/"
        },
        "id": "t82yEDu3XvF1",
        "outputId": "c2bcd33b-40ae-40d7-bedc-07a9c838e705"
      },
      "source": [
        "#mengimport modul sklearn metric dan menghitung nilai akurasi, precisoion, recall dan F1Score dengan rata-rata macro\n",
        "from sklearn.metrics import precision_recall_fscore_support\n",
        "precision_recall_fscore_support(y_tes,y_predict,average='macro')"
      ],
      "execution_count": null,
      "outputs": [
        {
          "output_type": "execute_result",
          "data": {
            "text/plain": [
              "(0.7260233918128655, 0.7321317973491887, 0.7142857142857144, None)"
            ]
          },
          "metadata": {
            "tags": []
          },
          "execution_count": 117
        }
      ]
    },
    {
      "cell_type": "code",
      "metadata": {
        "colab": {
          "base_uri": "https://localhost:8080/"
        },
        "id": "2zx51H_RYWXR",
        "outputId": "0e41e84c-7fc5-49b7-db1e-07519230b4e3"
      },
      "source": [
        "#mencetak hasil nilai akurasi, precisoion, recall dan F1Score pada data testing\n",
        "print(classification_report(y_tes, y_predict))"
      ],
      "execution_count": null,
      "outputs": [
        {
          "output_type": "stream",
          "text": [
            "              precision    recall  f1-score   support\n",
            "\n",
            "           1       1.00      0.93      0.97        15\n",
            "           2       0.90      0.67      0.77        27\n",
            "           3       0.50      0.83      0.62        12\n",
            "\n",
            "    accuracy                           0.78        54\n",
            "   macro avg       0.80      0.81      0.79        54\n",
            "weighted avg       0.84      0.78      0.79        54\n",
            "\n"
          ],
          "name": "stdout"
        }
      ]
    },
    {
      "cell_type": "code",
      "metadata": {
        "id": "R-mHwY11Y40_"
      },
      "source": [
        "#mengimport modul tree pada library sklearn\n",
        "from sklearn import tree\n",
        "\n",
        "#memanggil metode decision tree dengan kriteria entropy dan maksimum kedalaman=4 pada variabel model_dcs\n",
        "model_dcs = tree.DecisionTreeClassifier(criterion=\"entropy\", max_depth=4)\n",
        "\n",
        "#menerima input untuk data sampel (x) dan label (target y ).\n",
        "model_dcs = model_dcs.fit(x_train, y_train)\n",
        "\n",
        "#menyimpan hasil prediksi kelas pada data testing ke variabel y_predict_dcs\n",
        "y_predict_dcs = model_dcs.predict(x_tes)"
      ],
      "execution_count": null,
      "outputs": []
    },
    {
      "cell_type": "code",
      "metadata": {
        "colab": {
          "base_uri": "https://localhost:8080/",
          "height": 300
        },
        "id": "LfunfT0DaCFA",
        "outputId": "29de5217-4c2e-44b6-e61e-72b9c0c1fe48"
      },
      "source": [
        "#menampilkan plotting dari confusion matrix model KNN\n",
        "ConfusionMatrixDisplay(cm,display_labels=model_dcs.classes_).plot()"
      ],
      "execution_count": null,
      "outputs": [
        {
          "output_type": "execute_result",
          "data": {
            "text/plain": [
              "<sklearn.metrics._plot.confusion_matrix.ConfusionMatrixDisplay at 0x7f3b850b1b10>"
            ]
          },
          "metadata": {
            "tags": []
          },
          "execution_count": 119
        },
        {
          "output_type": "display_data",
          "data": {
            "image/png": "[encoded data removed]",
            "text/plain": [
              "<Figure size 432x288 with 2 Axes>"
            ]
          },
          "metadata": {
            "tags": [],
            "needs_background": "light"
          }
        }
      ]
    },
    {
      "cell_type": "code",
      "metadata": {
        "colab": {
          "base_uri": "https://localhost:8080/"
        },
        "id": "bbdInGiBahLf",
        "outputId": "9e8eb82e-e035-4c0a-ce75-9ece446a123f"
      },
      "source": [
        "#mengimport modul sklearn metric dan menghitung nilai akurasi, precisoion, recall dan F1Score dengan rata-rata macro\n",
        "from sklearn.metrics import precision_recall_fscore_support\n",
        "precision_recall_fscore_support(y_tes,y_predict,average='macro')"
      ],
      "execution_count": null,
      "outputs": [
        {
          "output_type": "execute_result",
          "data": {
            "text/plain": [
              "(0.7260233918128655, 0.7321317973491887, 0.7142857142857144, None)"
            ]
          },
          "metadata": {
            "tags": []
          },
          "execution_count": 120
        }
      ]
    },
    {
      "cell_type": "code",
      "metadata": {
        "colab": {
          "base_uri": "https://localhost:8080/"
        },
        "id": "H9yQ7qgHayGB",
        "outputId": "662e7d0c-9390-4a7c-abc4-02100f71ed5b"
      },
      "source": [
        "#mencetak nilai hasil klasifikasi dengan method classfication_report\n",
        "print(classification_report(y_tes, y_predict))"
      ],
      "execution_count": null,
      "outputs": [
        {
          "output_type": "stream",
          "text": [
            "              precision    recall  f1-score   support\n",
            "\n",
            "           1       1.00      0.93      0.97        15\n",
            "           2       0.90      0.67      0.77        27\n",
            "           3       0.50      0.83      0.62        12\n",
            "\n",
            "    accuracy                           0.78        54\n",
            "   macro avg       0.80      0.81      0.79        54\n",
            "weighted avg       0.84      0.78      0.79        54\n",
            "\n"
          ],
          "name": "stdout"
        }
      ]
    },
    {
      "cell_type": "code",
      "metadata": {
        "colab": {
          "base_uri": "https://localhost:8080/",
          "height": 498
        },
        "id": "IHauCO0Da8LP",
        "outputId": "2202cc56-f3a8-498e-effa-13c0f2044728"
      },
      "source": [
        "from sklearn import tree\n",
        "\n",
        "#memanggil method plot_tree untuk menampilkan pohon keputusan pada model klasifikasi \n",
        "tree.plot_tree(model_dcs)"
      ],
      "execution_count": null,
      "outputs": [
        {
          "output_type": "execute_result",
          "data": {
            "text/plain": [
              "[Text(141.64615384615385, 195.696, 'X[6] <= 1.575\\nentropy = 1.579\\nsamples = 124\\nvalue = [44, 44, 36]'),\n",
              " Text(51.50769230769231, 152.208, 'X[9] <= 3.9\\nentropy = 0.684\\nsamples = 44\\nvalue = [0, 8, 36]'),\n",
              " Text(25.753846153846155, 108.72, 'entropy = 0.0\\nsamples = 7\\nvalue = [0, 7, 0]'),\n",
              " Text(77.26153846153846, 108.72, 'X[10] <= 0.945\\nentropy = 0.179\\nsamples = 37\\nvalue = [0, 1, 36]'),\n",
              " Text(51.50769230769231, 65.232, 'entropy = 0.0\\nsamples = 36\\nvalue = [0, 0, 36]'),\n",
              " Text(103.01538461538462, 65.232, 'entropy = 0.0\\nsamples = 1\\nvalue = [0, 1, 0]'),\n",
              " Text(231.7846153846154, 152.208, 'X[12] <= 724.5\\nentropy = 0.993\\nsamples = 80\\nvalue = [44, 36, 0]'),\n",
              " Text(180.27692307692308, 108.72, 'X[0] <= 13.175\\nentropy = 0.196\\nsamples = 33\\nvalue = [1, 32, 0]'),\n",
              " Text(154.52307692307693, 65.232, 'entropy = 0.0\\nsamples = 31\\nvalue = [0, 31, 0]'),\n",
              " Text(206.03076923076924, 65.232, 'X[12] <= 545.0\\nentropy = 1.0\\nsamples = 2\\nvalue = [1, 1, 0]'),\n",
              " Text(180.27692307692308, 21.744, 'entropy = 0.0\\nsamples = 1\\nvalue = [0, 1, 0]'),\n",
              " Text(231.7846153846154, 21.744, 'entropy = 0.0\\nsamples = 1\\nvalue = [1, 0, 0]'),\n",
              " Text(283.2923076923077, 108.72, 'X[9] <= 3.46\\nentropy = 0.42\\nsamples = 47\\nvalue = [43, 4, 0]'),\n",
              " Text(257.53846153846155, 65.232, 'entropy = 0.0\\nsamples = 4\\nvalue = [0, 4, 0]'),\n",
              " Text(309.04615384615386, 65.232, 'entropy = 0.0\\nsamples = 43\\nvalue = [43, 0, 0]')]"
            ]
          },
          "metadata": {
            "tags": []
          },
          "execution_count": 83
        },
        {
          "output_type": "display_data",
          "data": {
            "image/png": "[encoded data removed]",
            "text/plain": [
              "<Figure size 432x288 with 1 Axes>"
            ]
          },
          "metadata": {
            "tags": [],
            "needs_background": "light"
          }
        }
      ]
    }
  ]
}